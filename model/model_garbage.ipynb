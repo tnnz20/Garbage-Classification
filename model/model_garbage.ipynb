{
  "nbformat": 4,
  "nbformat_minor": 0,
  "metadata": {
    "colab": {
      "name": "model-garbage.ipynb",
      "provenance": [],
      "collapsed_sections": []
    },
    "kernelspec": {
      "name": "python3",
      "display_name": "Python 3"
    },
    "language_info": {
      "name": "python"
    }
  },
  "cells": [
    {
      "cell_type": "markdown",
      "metadata": {
        "id": "qfgugyNWCviY"
      },
      "source": [
        "# Model Garbage Classification\n",
        "Capstone Kampus Merdeka x Dicoding"
      ]
    },
    {
      "cell_type": "code",
      "metadata": {
        "id": "PyR0DzzbCnij"
      },
      "source": [
        ""
      ],
      "execution_count": null,
      "outputs": []
    }
  ]
}